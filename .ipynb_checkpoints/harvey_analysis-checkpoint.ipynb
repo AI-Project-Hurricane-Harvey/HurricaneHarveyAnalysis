{
 "cells": [
  {
   "cell_type": "code",
   "execution_count": 1,
   "metadata": {
    "collapsed": true,
    "deletable": true,
    "editable": true
   },
   "outputs": [],
   "source": [
    "import os\n",
    "import json"
   ]
  },
  {
   "cell_type": "markdown",
   "metadata": {
    "collapsed": true,
    "deletable": true,
    "editable": true
   },
   "source": [
    "Generating pre-evacuation dataset for following cities in Texas from 08/23/2017 to 25/08/2017 using keyword 'harvey' "
   ]
  },
  {
   "cell_type": "code",
   "execution_count": 6,
   "metadata": {
    "collapsed": false,
    "deletable": true,
    "editable": true
   },
   "outputs": [],
   "source": [
    "cities_mandated = [\"Ganado\", \"La Ward\", \"Edna\", \"Anniston\", \"Glencoe\", \"Jacksonville\", \"Oxford\", \"Piedmont\", \"Southside\", \\\n",
    "              \"Weaver\", \"Austwell\", \"Alvin\", \"Angleton\", \"Brazoria\", \"Brookside Village\", \"Clute\", \"Danbury\", \\\n",
    "              \"Freeport\", \"Lake Jackson\", \"Liverpool\", \"Manvel\", \"Oyster Creek\", \"Pearland\", \"Richwood\", \"Sandy Point\", \\\n",
    "              \"Surfside Beach\", \"Sweeny\", \"West Columbia\", \"Aransas Pass \", \"Corpus Christi \", \"Ingleside\", \"Portland\", \\\n",
    "              \"San Patricio\", \"Gregory\", \"Ingleside on the Bay\", \"Mathis\", \"Odem\", \"Sinton\", \"Taft\", \"Victoria\"]\n",
    "\n",
    "for subdir, dirs, files in os.walk(\".//Harvey_Pre_USA\"):\n",
    "    for file in files:\n",
    "        tweets = []\n",
    "        filepath = subdir + os.sep + file\n",
    "        for tweet in json.load(open(filepath, 'r')):\n",
    "            try:\n",
    "                for city in cities_mandated:\n",
    "                    if city in tweet[\"place\"][\"full_name\"].encode('utf-8') and \\\n",
    "                    \"TX\" in tweet[\"place\"][\"full_name\"].encode('utf-8'):\n",
    "                        tweets.append(tweet)\n",
    "            except:\n",
    "                continue\n",
    "        f = open(\".//Harvey_Pre_Evacuation_Mandated//\" +file, 'w+')\n",
    "        json.dump(tweets, f)"
   ]
  },
  {
   "cell_type": "markdown",
   "metadata": {
    "collapsed": true,
    "deletable": true,
    "editable": true
   },
   "source": [
    "Generating unique users from pre-evacuation dataset."
   ]
  },
  {
   "cell_type": "code",
   "execution_count": 2,
   "metadata": {
    "collapsed": false,
    "deletable": true,
    "editable": true
   },
   "outputs": [
    {
     "name": "stdout",
     "output_type": "stream",
     "text": [
      "Number of unique users from pre-evacuation dataset:  212\n"
     ]
    }
   ],
   "source": [
    "users_set_pre_evacuation = set()\n",
    "for subdir, dirs, files in os.walk(\".//Harvey_Pre_Evacuation_Mandated\"):\n",
    "    for file in files:\n",
    "        filepath = subdir + os.sep + file\n",
    "        try:\n",
    "            for tweet in json.load(open(filepath, 'r')):\n",
    "                users_set_pre_evacuation.add(tweet[\"user\"][\"id\"])\n",
    "        except:\n",
    "            continue \n",
    "print \"Number of unique users from pre-evacuation dataset:\", len(users_set_pre_evacuation)"
   ]
  },
  {
   "cell_type": "markdown",
   "metadata": {
    "collapsed": true,
    "deletable": true,
    "editable": true
   },
   "source": [
    "Generating unique users from post-evacuation dataset."
   ]
  },
  {
   "cell_type": "code",
   "execution_count": 36,
   "metadata": {
    "collapsed": false,
    "deletable": true,
    "editable": true
   },
   "outputs": [
    {
     "name": "stdout",
     "output_type": "stream",
     "text": [
      "Number of unique users from post-evacuation dataset: 123512\n"
     ]
    }
   ],
   "source": [
    "users_set_post_evacuation = set()\n",
    "for subdir, dirs, files in os.walk(\".//Harvey_Post_USA\"):\n",
    "    for file in files:\n",
    "        filepath = subdir + os.sep + file\n",
    "        try:\n",
    "            for tweet in json.load(open(filepath, 'r')):\n",
    "                users_set_post_evacuation.add(tweet[\"user\"][\"id\"])\n",
    "        except:\n",
    "            continue \n",
    "print \"Number of unique users from post-evacuation dataset:\", len(users_set_post_evacuation)"
   ]
  },
  {
   "cell_type": "markdown",
   "metadata": {
    "deletable": true,
    "editable": true
   },
   "source": [
    "Generating intersection of common users from pre-evacuation and post-evacuation dataset."
   ]
  },
  {
   "cell_type": "code",
   "execution_count": 6,
   "metadata": {
    "collapsed": false,
    "deletable": true,
    "editable": true
   },
   "outputs": [
    {
     "name": "stdout",
     "output_type": "stream",
     "text": [
      "Number of common users from pre-evacuation and post-evacuation dataset:  143\n"
     ]
    }
   ],
   "source": [
    "common_users = []\n",
    "common_users = users_set_pre_evacuation.intersection(users_set_post_evacuation)\n",
    "number_common_users = len(common_users)\n",
    "print \"Number of common users from pre-evacuation and post-evacuation dataset: \",number_common_users"
   ]
  },
  {
   "cell_type": "markdown",
   "metadata": {
    "deletable": true,
    "editable": true
   },
   "source": [
    "**Generating tweets of common users from pre-evacuation period.**"
   ]
  },
  {
   "cell_type": "code",
   "execution_count": 8,
   "metadata": {
    "collapsed": false,
    "deletable": true,
    "editable": true
   },
   "outputs": [],
   "source": [
    "common_user_pre_tweets = {}\n",
    "\n",
    "for userid in common_users:\n",
    "    common_user_pre_tweets[userid] = []\n",
    "    \n",
    "for subdir, dirs, files in os.walk(\".//Harvey_Pre_Evacuation_Mandated\"):\n",
    "    for file in files:\n",
    "        filepath = subdir + os.sep + file\n",
    "        for tweet in json.load(open(filepath, 'r')):\n",
    "           \n",
    "            if (tweet[\"user\"][\"id\"] in common_users):\n",
    "                common_user_pre_tweets[tweet[\"user\"][\"id\"]].append(tweet)\n",
    "        \n",
    "f = open(\".//common_user_pre_tweets.json\", 'w+')\n",
    "json.dump(common_user_pre_tweets, f) \n",
    "   "
   ]
  },
  {
   "cell_type": "markdown",
   "metadata": {
    "deletable": true,
    "editable": true
   },
   "source": [
    "**Generating tweets of common users from post-evacuation period.**"
   ]
  },
  {
   "cell_type": "code",
   "execution_count": null,
   "metadata": {
    "collapsed": true
   },
   "outputs": [],
   "source": [
    "common_user_post_tweets = {}\n",
    "\n",
    "for userid in common_users:\n",
    "    common_user_post_tweets[userid] = []\n",
    "    \n",
    "for subdir, dirs, files in os.walk(\".//Harvey_Post_USA\"):\n",
    "    for file in files:\n",
    "        filepath = subdir + os.sep + file\n",
    "        for tweet in json.load(open(filepath, 'r')):    \n",
    "            if (tweet[\"user\"][\"id\"] in common_users):\n",
    "                common_user_post_tweets[tweet[\"user\"][\"id\"]].append(tweet)\n",
    "\n",
    "f = open(\".//common_user_post_tweets.json\", 'w+')\n",
    "json.dump(common_user_post_tweets, f) "
   ]
  },
  {
   "cell_type": "markdown",
   "metadata": {
    "deletable": true,
    "editable": true
   },
   "source": [
    "Generating evacuated users."
   ]
  },
  {
   "cell_type": "code",
   "execution_count": 15,
   "metadata": {
    "collapsed": false,
    "deletable": true,
    "editable": true
   },
   "outputs": [
    {
     "name": "stdout",
     "output_type": "stream",
     "text": [
      "Number of users that may have evacuated:  68\n",
      "[set([u'Mathis, TX']), set([u'Los Angeles, CA', u'Corpus Christi, TX'])]\n",
      "[set([u'Victoria, TX']), set([u'Manhattan, NY'])]\n"
     ]
    }
   ],
   "source": [
    "common_users_pre_json = json.load(open(\"common_user_pre_tweets.json\", 'r'))\n",
    "common_users_post_json = json.load(open(\"common_user_post_tweets.json\", 'r'))\n",
    "evacuated = {}\n",
    "common_users =  set(open('.//common_users.txt').read().split())\n",
    "\n",
    "for user in common_users:\n",
    "    pre_loc=set()\n",
    "    post_loc=set()\n",
    "    for tweet in common_users_pre_json[str(user)]:\n",
    "        pre_loc.add(tweet[\"place\"][\"full_name\"])\n",
    "    for tweet in common_users_post_json[str(user)]:\n",
    "        post_loc.add(tweet[\"place\"][\"full_name\"])\n",
    "    if \"Texas, USA\" in post_loc:\n",
    "        post_loc.remove(\"Texas, USA\")\n",
    "    if (not pre_loc == post_loc and not len(post_loc)==0):\n",
    "        evacuated[str(user)] = [pre_loc, post_loc]\n",
    "        \n",
    "number_evacuated = len(evacuated)\n",
    "print \"Number of users that may have evacuated: \", number_evacuated\n",
    "print evacuated['371782628']\n",
    "print evacuated['1569326526']"
   ]
  },
  {
   "cell_type": "markdown",
   "metadata": {
    "deletable": true,
    "editable": true
   },
   "source": [
    "Computing evacuation rate."
   ]
  },
  {
   "cell_type": "code",
   "execution_count": 27,
   "metadata": {
    "collapsed": false,
    "deletable": true,
    "editable": true
   },
   "outputs": [
    {
     "name": "stdout",
     "output_type": "stream",
     "text": [
      "Estimated evacuation rate:  68 / 143 = 47.55%\n"
     ]
    }
   ],
   "source": [
    "print \"Estimated evacuation rate: \", number_evacuated, \"/\", number_common_users, \"= %0.2f\" \\\n",
    "% (number_evacuated/(number_common_users * 1.0) * 100) + \"%\""
   ]
  },
  {
   "cell_type": "markdown",
   "metadata": {
    "deletable": true,
    "editable": true
   },
   "source": [
    "Generating evacuation rates by conglomerates."
   ]
  },
  {
   "cell_type": "markdown",
   "metadata": {
    "deletable": true,
    "editable": true
   },
   "source": [
    "Finding number of common users by conglomerates. "
   ]
  },
  {
   "cell_type": "code",
   "execution_count": 28,
   "metadata": {
    "collapsed": false,
    "deletable": true,
    "editable": true
   },
   "outputs": [
    {
     "name": "stdout",
     "output_type": "stream",
     "text": [
      "{'Victoria County': 20, 'Brazoria': 99, 'Jackson County': 1, 'Calhoun': 2, 'Refugio': 0, 'San Patricio': 21}\n",
      "143\n"
     ]
    }
   ],
   "source": [
    "counties_total = {\"Jackson County\": 0,  \"Calhoun\": 0, \"Refugio\": 0, \"San Patricio\": 0, \"Victoria County\": 0, \"Brazoria\": 0}\n",
    "\n",
    "cities_dict = {\"Jackson County\": [\"Ganado\", \"La Ward\", \"Edna\"],\\\n",
    "               \"Calhoun\": [\"Anniston\", \"Glencoe\", \"Jacksonville\", \"Oxford\", \"Piedmont\", \"Southside Place\",\"Weaver\"],\\\n",
    "               \"Refugio\": [\"Austwell\"],\\\n",
    "               \"Brazoria\": [\"Alvin\", \"Angleton\", \"Brazoria\", \"Brookside Village\", \"Clute\", \"Danbury\", \"Freeport\",\\\n",
    "                                \"Lake Jackson\", \"Liverpool\", \"Manvel\", \"Oyster Creek\", \"Pearland\", \"Richwood\",\\\n",
    "                                \"Sandy Point\", \"Surfside Beach\", \"Sweeny\", \"West Columbia\"],\\\n",
    "               \"San Patricio\": [\"Aransas Pass \", \"Corpus Christi \", \"Ingleside\", \"Portland\", \"San Patricio\",\\\n",
    "                                    \"Gregory\", \"Ingleside on the Bay\", \"Mathis\", \"Odem\", \"Sinton\", \"Taft\"],\\\n",
    "               \"Victoria County\": [\"Victoria\"]}\n",
    "\n",
    "common_users =  set(open('.//common_users.txt').read().split())\n",
    "\n",
    "common_users_pre_json = json.load(open(\"common_user_pre_tweets.json\", 'r'))\n",
    "\n",
    "for user in common_users:\n",
    "    for county, cities in cities_dict.iteritems():\n",
    "        if common_users_pre_json[str(user)][0][\"place\"][\"full_name\"].split(',', 1)[0] in cities:\n",
    "            counties_total[county]+=1\n",
    "    \n",
    "print counties_total\n",
    "print len(common_users)    "
   ]
  },
  {
   "cell_type": "markdown",
   "metadata": {
    "deletable": true,
    "editable": true
   },
   "source": [
    "Finding number of evacuated users by conglomerates. "
   ]
  },
  {
   "cell_type": "code",
   "execution_count": 29,
   "metadata": {
    "collapsed": false,
    "deletable": true,
    "editable": true
   },
   "outputs": [
    {
     "name": "stdout",
     "output_type": "stream",
     "text": [
      "{'Victoria County': 14, 'Brazoria': 35, 'Jackson County': 1, 'Calhoun': 2, 'Refugio': 0, 'San Patricio': 16}\n",
      "68\n"
     ]
    }
   ],
   "source": [
    "counties_evacuated = {\"Jackson County\": 0,  \"Calhoun\": 0, \"Refugio\": 0, \"San Patricio\": 0, \"Victoria County\": 0, \"Brazoria\": 0}\n",
    "common_users =  set(open('.//common_users.txt').read().split())\n",
    "\n",
    "for user, tweets in evacuated.iteritems():\n",
    "    for county, cities in cities_dict.iteritems():\n",
    "        try:\n",
    "            if list(tweets[0])[0].split(',', 1)[0] in cities:\n",
    "                counties_evacuated[county]+=1\n",
    "        except:\n",
    "            print user, tweets\n",
    "print counties_evacuated\n",
    "print len(evacuated)"
   ]
  },
  {
   "cell_type": "markdown",
   "metadata": {
    "deletable": true,
    "editable": true
   },
   "source": [
    "Temporal analysis of tweets for Texas and Louisiana from 08/23 to 09/03"
   ]
  },
  {
   "cell_type": "markdown",
   "metadata": {
    "deletable": true,
    "editable": true
   },
   "source": [
    "Generating two dataset of tweets from 08/23 to 09/03 filtered by location containing \"TX\"\n",
    "and \"LA\" respectively."
   ]
  },
  {
   "cell_type": "code",
   "execution_count": 5,
   "metadata": {
    "collapsed": false,
    "deletable": true,
    "editable": true
   },
   "outputs": [],
   "source": [
    "\n",
    "for subdir, dirs, files in os.walk(\".//Harvey_USA\"):\n",
    "    for file in files:\n",
    "        tweets_tx = []\n",
    "        tweets_la = []\n",
    "        filepath = subdir + os.sep + file\n",
    "        for tweet in json.load(open(filepath, 'r')):\n",
    "            try:\n",
    "                if \"TX\" in tweet[\"place\"][\"full_name\"].encode('utf-8'):\n",
    "                    tweets_tx.append(tweet)\n",
    "                if \"LA\" in tweet[\"place\"][\"full_name\"].encode('utf-8'):\n",
    "                    tweets_la.append(tweet)\n",
    "            except:\n",
    "                print tweet\n",
    "                continue\n",
    "        f1 = open(\".//Harvey_TX_by_date//\" +file, 'w+')\n",
    "        f2 = open(\".//Harvey_LA_by_date//\" +file, 'w+')\n",
    "        json.dump(tweets_tx, f1)\n",
    "        json.dump(tweets_la, f2)\n",
    "        "
   ]
  },
  {
   "cell_type": "markdown",
   "metadata": {
    "deletable": true,
    "editable": true
   },
   "source": [
    "Computing number of tweets per day using the dataset generated in the previous step."
   ]
  },
  {
   "cell_type": "code",
   "execution_count": 30,
   "metadata": {
    "collapsed": false,
    "deletable": true,
    "editable": true
   },
   "outputs": [],
   "source": [
    "texas_day_count = {\"20170823\": 0, \"20170824\": 0, \"20170825\": 0, \"20170826\": 0, \"20170827\": 0, \"20170828\": 0, \\\n",
    "                  \"20170829\": 0, \"20170830\": 0, \"20170831\": 0, \"20170901\": 0, \"20170902\": 0, \"20170903\": 0 }\n",
    "la_day_count = {\"20170823\": 0, \"20170824\": 0, \"20170825\": 0, \"20170826\": 0, \"20170827\": 0, \"20170828\": 0, \\\n",
    "                  \"20170829\": 0, \"20170830\": 0, \"20170831\": 0, \"20170901\": 0, \"20170902\": 0, \"20170903\": 0 }\n",
    "\n",
    "for subdir, dirs, files in os.walk(\".//Harvey_TX_by_date\"):\n",
    "    for file in files:\n",
    "        filepath = subdir + os.sep + file\n",
    "        try:\n",
    "            tweets = json.load(open(filepath, 'r'))\n",
    "        except:\n",
    "            print filepath\n",
    "        texas_day_count[str(file.split('_', 1)[0])] += len(tweets)\n",
    "\n",
    "for subdir, dirs, files in os.walk(\".//Harvey_LA_by_date\"):\n",
    "    for file in files:\n",
    "        try:\n",
    "            filepath = subdir + os.sep + file\n",
    "        except:\n",
    "            print filename\n",
    "        tweets = json.load(open(filepath, 'r'))\n",
    "        la_day_count[str(file.split('_', 1)[0])] += len(tweets)"
   ]
  },
  {
   "cell_type": "markdown",
   "metadata": {
    "deletable": true,
    "editable": true
   },
   "source": [
    "Generating graphs for temporal analyis of tweets from Texas ."
   ]
  },
  {
   "cell_type": "code",
   "execution_count": 32,
   "metadata": {
    "collapsed": false,
    "deletable": true,
    "editable": true
   },
   "outputs": [
    {
     "data": {
      "image/png": "[encoded data removed]",
      "text/plain": [
       "<matplotlib.figure.Figure at 0xa70ce48>"
      ]
     },
     "metadata": {},
     "output_type": "display_data"
    }
   ],
   "source": [
    "import matplotlib.pyplot as plt; plt.rcdefaults()\n",
    "import numpy as np\n",
    "import matplotlib.pyplot as plt\n",
    " \n",
    "objects = (\"23\", \"24\", \"25\", \"26\", \"27\", \"28\", \\\n",
    "                  \"29\", \"30\", \"31\", \"01\", \"02\", \"03\" )\n",
    "y_pos = np.arange(12)\n",
    "performance = [354,2820,6946,7567,7464,6998,7025,9987,9210,9417,9910,6745]\n",
    " \n",
    "plt.bar(y_pos, performance, align='center', alpha=0.5)\n",
    "plt.xticks(y_pos, objects)\n",
    "plt.xlabel('Date')\n",
    "plt.ylabel('No. of tweets')\n",
    "plt.title('No. of tweets by date')\n",
    " \n",
    "plt.show()"
   ]
  },
  {
   "cell_type": "markdown",
   "metadata": {
    "deletable": true,
    "editable": true
   },
   "source": [
    "Generating graphs for temporal analyis of tweets from Louisiana ."
   ]
  },
  {
   "cell_type": "code",
   "execution_count": 33,
   "metadata": {
    "collapsed": false,
    "deletable": true,
    "editable": true
   },
   "outputs": [
    {
     "data": {
      "image/png": "[encoded data removed]",
      "text/plain": [
       "<matplotlib.figure.Figure at 0x64b6d68>"
      ]
     },
     "metadata": {},
     "output_type": "display_data"
    }
   ],
   "source": [
    "import matplotlib.pyplot as plt; plt.rcdefaults()\n",
    "import numpy as np\n",
    "import matplotlib.pyplot as plt\n",
    " \n",
    "objects = (\"23\", \"24\", \"25\", \"26\", \"27\", \"28\", \\\n",
    "                  \"29\", \"30\", \"31\", \"01\", \"02\", \"03\" )\n",
    "y_pos = np.arange(12)\n",
    "performance = [31,134,337,321,384,456,618,704,532,503,506,343]\n",
    " \n",
    "plt.bar(y_pos, performance, align='center', alpha=0.5)\n",
    "plt.xticks(y_pos, objects)\n",
    "plt.xlabel('Date')\n",
    "plt.ylabel('No. of tweets')\n",
    "plt.title('No. of tweets by date')\n",
    " \n",
    "plt.show()"
   ]
  },
  {
   "cell_type": "markdown",
   "metadata": {
    "collapsed": true,
    "deletable": true,
    "editable": true
   },
   "source": [
    "Evacuation analysis for Houston"
   ]
  },
  {
   "cell_type": "markdown",
   "metadata": {},
   "source": [
    "Generating pre-evacuation dataset for \"Houston\" from 08/23/2017 to 25/08/2017 using keyword 'harvey' "
   ]
  },
  {
   "cell_type": "code",
   "execution_count": null,
   "metadata": {
    "collapsed": true
   },
   "outputs": [],
   "source": [
    "\n",
    "for subdir, dirs, files in os.walk(\".//Harvey_Pre_USA\"):\n",
    "    for file in files:\n",
    "        tweets = []\n",
    "        filepath = subdir + os.sep + file\n",
    "        for tweet in json.load(open(filepath, 'r')):\n",
    "            try:\n",
    "                if \"Houston\" in tweet[\"place\"][\"full_name\"].encode('utf-8') and \\\n",
    "                \"TX\" in tweet[\"place\"][\"full_name\"].encode('utf-8'):\n",
    "                    tweets.append(tweet)\n",
    "            except:\n",
    "                continue\n",
    "        f = open(\".//Harvey_Pre_Evacuation_Houston//\" +file, 'w+')\n",
    "        json.dump(tweets, f)"
   ]
  },
  {
   "cell_type": "markdown",
   "metadata": {},
   "source": [
    "Generating unique users from pre-evacuation dataset for Houston."
   ]
  },
  {
   "cell_type": "code",
   "execution_count": 34,
   "metadata": {
    "collapsed": false
   },
   "outputs": [
    {
     "name": "stdout",
     "output_type": "stream",
     "text": [
      "Number of unique users from pre-evacuation dataset: 1845\n"
     ]
    }
   ],
   "source": [
    "users_set_pre_evacuation_houston = set()\n",
    "for subdir, dirs, files in os.walk(\".//Harvey_Pre_Evacuation_Houston\"):\n",
    "    for file in files:\n",
    "        filepath = subdir + os.sep + file\n",
    "        try:\n",
    "            for tweet in json.load(open(filepath, 'r')):\n",
    "                users_set_pre_evacuation_houston.add(tweet[\"user\"][\"id\"])\n",
    "        except:\n",
    "            continue \n",
    "print \"Number of unique users from pre-evacuation dataset:\", len(users_set_pre_evacuation_houston)"
   ]
  },
  {
   "cell_type": "markdown",
   "metadata": {},
   "source": [
    "Generating intersection of common users from pre-evacuation dataset for Houston and post-evacuation dataset."
   ]
  },
  {
   "cell_type": "code",
   "execution_count": 37,
   "metadata": {
    "collapsed": false
   },
   "outputs": [
    {
     "name": "stdout",
     "output_type": "stream",
     "text": [
      "Number of common users from pre-evacuation and post-evacuation dataset:  1243\n"
     ]
    }
   ],
   "source": [
    "common_users_houston = []\n",
    "common_users_houston = users_set_pre_evacuation_houston.intersection(users_set_post_evacuation)\n",
    "number_common_users_houston = len(common_users_houston)\n",
    "print \"Number of common users from pre-evacuation and post-evacuation dataset: \",number_common_users_houston"
   ]
  },
  {
   "cell_type": "markdown",
   "metadata": {},
   "source": [
    "**Generating tweets of common_users_houston from pre-evacuation period.**"
   ]
  },
  {
   "cell_type": "code",
   "execution_count": null,
   "metadata": {
    "collapsed": true
   },
   "outputs": [],
   "source": [
    "common_user_pre_tweets_houston = {}\n",
    "\n",
    "for userid in common_users_houston:\n",
    "    common_user_pre_tweets_houston[userid] = []\n",
    "    \n",
    "for subdir, dirs, files in os.walk(\".//Harvey_Pre_Evacuation_Houston\"):\n",
    "    for file in files:\n",
    "        filepath = subdir + os.sep + file\n",
    "        for tweet in json.load(open(filepath, 'r')):\n",
    "           \n",
    "            if (tweet[\"user\"][\"id\"] in common_users_houston):\n",
    "                common_user_pre_tweets_houston[tweet[\"user\"][\"id\"]].append(tweet)\n",
    "        \n",
    "f = open(\".//common_user_pre_tweets_houston.json\", 'w+')\n",
    "json.dump(common_user_pre_tweets_houston, f) "
   ]
  },
  {
   "cell_type": "markdown",
   "metadata": {},
   "source": [
    "**Generating tweets of common_users_houston from post-evacuation period.**"
   ]
  },
  {
   "cell_type": "code",
   "execution_count": null,
   "metadata": {
    "collapsed": true
   },
   "outputs": [],
   "source": [
    "common_user_post_tweets_houston = {}\n",
    "\n",
    "for userid in common_users_houston:\n",
    "    common_user_post_tweets_houston[userid] = []\n",
    "    \n",
    "for subdir, dirs, files in os.walk(\".//Harvey_Post_USA\"):\n",
    "    for file in files:\n",
    "        filepath = subdir + os.sep + file\n",
    "        for tweet in json.load(open(filepath, 'r')):    \n",
    "            if (tweet[\"user\"][\"id\"] in common_users_houston):\n",
    "                common_user_post_tweets_houston[tweet[\"user\"][\"id\"]].append(tweet)\n",
    "\n",
    "f = open(\".//common_user_post_tweets_houston.json\", 'w+')\n",
    "json.dump(common_user_post_tweets_houston, f) "
   ]
  },
  {
   "cell_type": "markdown",
   "metadata": {},
   "source": [
    "Generating evacuated users for Houston."
   ]
  },
  {
   "cell_type": "code",
   "execution_count": 39,
   "metadata": {
    "collapsed": false
   },
   "outputs": [
    {
     "name": "stdout",
     "output_type": "stream",
     "text": [
      "Number of users that may have evacuated:  274\n"
     ]
    }
   ],
   "source": [
    "common_users_pre_houston_json = json.load(open(\"common_user_pre_tweets_houston.json\", 'r'))\n",
    "common_users_post_houston_json = json.load(open(\"common_user_post_tweets_houston.json\", 'r'))\n",
    "evacuated_houston = {}\n",
    "#common_users_houston =  set(open('.//common_users_houston.txt').read().split())\n",
    "\n",
    "for user in common_users_houston:\n",
    "    pre_loc=set()\n",
    "    post_loc=set()\n",
    "    for tweet in common_users_pre_houston_json[str(user)]:\n",
    "        pre_loc.add(tweet[\"place\"][\"full_name\"])\n",
    "    for tweet in common_users_post_houston_json[str(user)]:\n",
    "        post_loc.add(tweet[\"place\"][\"full_name\"])\n",
    "    if \"Texas, USA\" in post_loc:\n",
    "        post_loc.remove(\"Texas, USA\")\n",
    "    if (not pre_loc == post_loc and not len(post_loc)==0):\n",
    "        evacuated_houston[str(user)] = [pre_loc, post_loc]\n",
    "        \n",
    "number_evacuated_houston = len(evacuated_houston)\n",
    "print \"Number of users that may have evacuated: \", number_evacuated_houston"
   ]
  },
  {
   "cell_type": "markdown",
   "metadata": {},
   "source": [
    "Computing evacuation rate for Houston"
   ]
  },
  {
   "cell_type": "code",
   "execution_count": 40,
   "metadata": {
    "collapsed": false
   },
   "outputs": [
    {
     "name": "stdout",
     "output_type": "stream",
     "text": [
      "Estimated evacuation rate for Houston:  274 / 1243 = 22.04%\n"
     ]
    }
   ],
   "source": [
    "print \"Estimated evacuation rate for Houston: \", number_evacuated_houston, \"/\", number_common_users_houston, \"= %0.2f\" \\\n",
    "% (number_evacuated_houston/(number_common_users_houston * 1.0) * 100) + \"%\""
   ]
  },
  {
   "cell_type": "markdown",
   "metadata": {},
   "source": [
    "Evacuation analysis for coastal cities"
   ]
  }
 ],
 "metadata": {
  "kernelspec": {
   "display_name": "Python 2",
   "language": "python",
   "name": "python2"
  },
  "language_info": {
   "codemirror_mode": {
    "name": "ipython",
    "version": 2
   },
   "file_extension": ".py",
   "mimetype": "text/x-python",
   "name": "python",
   "nbconvert_exporter": "python",
   "pygments_lexer": "ipython2",
   "version": "2.7.10"
  }
 },
 "nbformat": 4,
 "nbformat_minor": 1
}
